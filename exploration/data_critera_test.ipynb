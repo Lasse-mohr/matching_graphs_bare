{
 "cells": [
  {
   "cell_type": "code",
   "execution_count": 1,
   "metadata": {},
   "outputs": [],
   "source": [
    "import numpy as np\n",
    "import os"
   ]
  },
  {
   "cell_type": "code",
   "execution_count": 55,
   "metadata": {},
   "outputs": [],
   "source": [
    "def check_values_in_range(array, min_value=-1, max_value=1, eps=0):\n",
    "    return np.all((array >= min_value - eps) & (array <= max_value + eps))\n",
    "\n",
    "def check_values_positive_int(array, eps=0):\n",
    "    positive = np.all(array >= -eps)\n",
    "    integer = np.all(np.issubdtype(array.dtype, np.integer))\n",
    "    return positive & integer"
   ]
  },
  {
   "cell_type": "code",
   "execution_count": 56,
   "metadata": {},
   "outputs": [],
   "source": [
    "def check_all_task_rest_files(base_dir, criteria_fun):\n",
    "    valid_files = []\n",
    "    for atlas_dir in ['Glasser', 'Schaefer1000']:\n",
    "        atlas_path = os.path.join(base_dir, atlas_dir)\n",
    "        if not os.path.isdir(atlas_path):\n",
    "            continue\n",
    "        \n",
    "        for user_dir in os.listdir(atlas_path):\n",
    "            user_path = os.path.join(atlas_path, user_dir)\n",
    "            if not os.path.isdir(user_path):\n",
    "                continue\n",
    "            \n",
    "            task_rest_dir = os.path.join(user_path, 'task-rest')\n",
    "            if not os.path.isdir(task_rest_dir):\n",
    "                continue\n",
    "            \n",
    "            for file_name in os.listdir(task_rest_dir):\n",
    "                if file_name.endswith('_desc-lrrl_FC.npy'):\n",
    "                    file_path = os.path.join(task_rest_dir, file_name)\n",
    "                    data = np.load(file_path)\n",
    "                    if not criteria_fun(data):\n",
    "                        return False\n",
    "                    valid_files.append(file_path)\n",
    "\n",
    "    return True if valid_files else False"
   ]
  },
  {
   "cell_type": "code",
   "execution_count": 57,
   "metadata": {},
   "outputs": [
    {
     "data": {
      "text/plain": [
       "False"
      ]
     },
     "execution_count": 57,
     "metadata": {},
     "output_type": "execute_result"
    }
   ],
   "source": [
    "#### Check if all the correlation file \n",
    "check_all_task_rest_files(\n",
    "    base_dir='./../data_new_struct/',\n",
    "    criteria_fun=check_values_in_range\n",
    "    )"
   ]
  },
  {
   "cell_type": "code",
   "execution_count": 58,
   "metadata": {},
   "outputs": [],
   "source": [
    "def check_all_ses_files(base_dir, criteria_fun):\n",
    "    valid_files = []\n",
    "    for atlas_dir in ['Glasser', 'Schaefer1000']:\n",
    "        atlas_path = os.path.join(base_dir, atlas_dir)\n",
    "        if not os.path.isdir(atlas_path):\n",
    "            continue\n",
    "        \n",
    "        for user_dir in os.listdir(atlas_path):\n",
    "            user_path = os.path.join(atlas_path, user_dir)\n",
    "            if not os.path.isdir(user_path):\n",
    "                continue\n",
    "            \n",
    "            ses_dir = os.path.join(user_path, 'ses-01')\n",
    "            if not os.path.isdir(ses_dir):\n",
    "                continue\n",
    "            \n",
    "            for file_name in os.listdir(ses_dir):\n",
    "                if file_name.endswith('_SC.npy'):\n",
    "                    file_path = os.path.join(ses_dir, file_name)\n",
    "                    data = np.load(file_path)\n",
    "                    if not criteria_fun(data):\n",
    "                        return False\n",
    "                    valid_files.append(file_path)\n",
    "\n",
    "    return True if valid_files else False"
   ]
  },
  {
   "cell_type": "code",
   "execution_count": 60,
   "metadata": {},
   "outputs": [
    {
     "data": {
      "text/plain": [
       "True"
      ]
     },
     "execution_count": 60,
     "metadata": {},
     "output_type": "execute_result"
    }
   ],
   "source": [
    "### Check if all the files have positive integer values\n",
    "check_all_ses_files(\n",
    "    base_dir='./../data_new_struct/',\n",
    "    criteria_fun=check_values_positive_int\n",
    ")"
   ]
  },
  {
   "cell_type": "code",
   "execution_count": null,
   "metadata": {},
   "outputs": [],
   "source": []
  }
 ],
 "metadata": {
  "kernelspec": {
   "display_name": "graph_matching",
   "language": "python",
   "name": "python3"
  },
  "language_info": {
   "codemirror_mode": {
    "name": "ipython",
    "version": 3
   },
   "file_extension": ".py",
   "mimetype": "text/x-python",
   "name": "python",
   "nbconvert_exporter": "python",
   "pygments_lexer": "ipython3",
   "version": "3.12.4"
  }
 },
 "nbformat": 4,
 "nbformat_minor": 2
}
