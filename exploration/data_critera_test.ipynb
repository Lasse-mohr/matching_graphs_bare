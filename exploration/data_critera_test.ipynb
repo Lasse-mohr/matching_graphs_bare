{
 "cells": [
  {
   "cell_type": "code",
   "execution_count": null,
   "metadata": {},
   "outputs": [],
   "source": [
    "import numpy as np\n",
    "import os"
   ]
  },
  {
   "cell_type": "code",
   "execution_count": null,
   "metadata": {},
   "outputs": [],
   "source": [
    "def check_values_in_range(array, min_value=-1, max_value=1):\n",
    "    return np.all((array >= min_value) & (array <= max_value))"
   ]
  },
  {
   "cell_type": "code",
   "execution_count": null,
   "metadata": {},
   "outputs": [],
   "source": [
    "def check_all_files(base_dir, criteria_fun):\n",
    "    valid_files = []\n",
    "    for atlas_dir in ['Glasser', 'Schaefer1000']:\n",
    "        atlas_path = os.path.join(base_dir, atlas_dir)\n",
    "        if not os.path.isdir(atlas_path):\n",
    "            continue\n",
    "        \n",
    "        for user_dir in os.listdir(atlas_path):\n",
    "            user_path = os.path.join(atlas_path, user_dir)\n",
    "            if not os.path.isdir(user_path):\n",
    "                continue\n",
    "            \n",
    "            task_rest_dir = os.path.join(user_path, 'task-rest')\n",
    "            if not os.path.isdir(task_rest_dir):\n",
    "                continue\n",
    "            \n",
    "            for file_name in os.listdir(task_rest_dir):\n",
    "                if file_name.endswith('_desc-lrrl_FC.npy'):\n",
    "                    file_path = os.path.join(task_rest_dir, file_name)\n",
    "                    data = np.load(file_path)\n",
    "                    if not criteria_fun(data):\n",
    "                        return False\n",
    "                    valid_files.append(file_path)\n",
    "\n",
    "    return True if valid_files else False\n"
   ]
  },
  {
   "cell_type": "code",
   "execution_count": null,
   "metadata": {},
   "outputs": [],
   "source": []
  }
 ],
 "metadata": {
  "language_info": {
   "name": "python"
  }
 },
 "nbformat": 4,
 "nbformat_minor": 2
}
