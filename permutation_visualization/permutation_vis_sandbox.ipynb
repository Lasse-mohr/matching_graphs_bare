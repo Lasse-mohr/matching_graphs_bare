{
 "cells": [
  {
   "cell_type": "code",
   "execution_count": 5,
   "metadata": {},
   "outputs": [],
   "source": [
    "import numpy as np\n",
    "\n",
    "def generate_permutation_matrix(m, rng=np.random.default_rng(1)):\n",
    "    \"\"\"Generate a single m x m permutation matrix.\"\"\"\n",
    "    P = np.zeros((m, m), dtype=int)\n",
    "    perm = rng.permutation(m)\n",
    "    P[np.arange(m), perm] = 1\n",
    "    return P\n",
    "\n",
    "def generate_permutation_matrices(n, m):\n",
    "    \"\"\"Generate n permutation matrices of size m x m.\"\"\"\n",
    "    return [generate_permutation_matrix(m) for _ in range(n)]"
   ]
  },
  {
   "cell_type": "code",
   "execution_count": 20,
   "metadata": {},
   "outputs": [],
   "source": [
    "num_matrices = 100\n",
    "matrix_size = 50\n",
    "permutation_matrices = generate_permutation_matrices(n=num_matrices, m=matrix_size)"
   ]
  },
  {
   "cell_type": "code",
   "execution_count": 21,
   "metadata": {},
   "outputs": [],
   "source": [
    "def identity_proportion(matrix):\n",
    "    m = matrix.shape[0]\n",
    "    return np.trace(matrix)/m\n"
   ]
  },
  {
   "cell_type": "code",
   "execution_count": 22,
   "metadata": {},
   "outputs": [],
   "source": [
    "identity_proportions = [identity_proportion(matrix) for matrix in permutation_matrices]"
   ]
  },
  {
   "cell_type": "code",
   "execution_count": null,
   "metadata": {},
   "outputs": [],
   "source": []
  }
 ],
 "metadata": {
  "kernelspec": {
   "display_name": "graph_matching",
   "language": "python",
   "name": "python3"
  },
  "language_info": {
   "codemirror_mode": {
    "name": "ipython",
    "version": 3
   },
   "file_extension": ".py",
   "mimetype": "text/x-python",
   "name": "python",
   "nbconvert_exporter": "python",
   "pygments_lexer": "ipython3",
   "version": "3.11.9"
  }
 },
 "nbformat": 4,
 "nbformat_minor": 2
}
