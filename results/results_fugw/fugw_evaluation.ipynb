{
 "cells": [
  {
   "cell_type": "code",
   "execution_count": 1,
   "metadata": {},
   "outputs": [],
   "source": [
    "import matplotlib.pyplot as pl\n",
    "import numpy as np\n",
    "import ot\n",
    "import os\n",
    "import pandas as pd\n"
   ]
  },
  {
   "cell_type": "code",
   "execution_count": 3,
   "metadata": {},
   "outputs": [],
   "source": [
    "atlas_switch ='Glasser' ## 'Glasser' 'Schaefer1000'\n",
    "type_switch = 'ses-01'\n",
    "collated_results = {}\n",
    "for alpha in [0.01, 0.1, 0.5, 1.0]:\n",
    "    collated_results[alpha] = pd.read_csv(f'/Users/tiyu/LoGML/matching_graphs_spatial_constraints/results/results_fugw/fgw_results_Glasser_ses-01_{alpha}.csv')"
   ]
  },
  {
   "cell_type": "code",
   "execution_count": 4,
   "metadata": {},
   "outputs": [
    {
     "data": {
      "text/plain": [
       "{0.01:        subject  frobenius_quality      self  neighbors    others\n",
       " 0   sub-111716           1.011581  0.958101   0.005587  0.036313\n",
       " 1   sub-103818           0.995277  0.913408   0.019553  0.067039\n",
       " 2   sub-105115           1.000116  0.944134   0.008380  0.047486\n",
       " 3   sub-113619           0.996738  0.930168   0.013966  0.055866\n",
       " 4   sub-115320           1.010135  0.924581   0.011173  0.064246\n",
       " ..         ...                ...       ...        ...       ...\n",
       " 95  sub-108020           1.014858  0.958101   0.002793  0.039106\n",
       " 96  sub-112112           0.999769  0.960894   0.000000  0.039106\n",
       " 97  sub-102513           0.996660  0.963687   0.002793  0.033520\n",
       " 98  sub-112920           1.008551  0.946927   0.005587  0.047486\n",
       " 99  sub-119732           0.996495  0.902235   0.013966  0.083799\n",
       " \n",
       " [100 rows x 5 columns],\n",
       " 0.1:        subject  frobenius_quality      self  neighbors    others\n",
       " 0   sub-111716           0.945083  0.888268   0.081006  0.030726\n",
       " 1   sub-103818           0.994907  0.905028   0.025140  0.069832\n",
       " 2   sub-105115           0.964186  0.846369   0.075419  0.078212\n",
       " 3   sub-113619           0.997675  0.924581   0.030726  0.044693\n",
       " 4   sub-115320           1.004191  0.921788   0.027933  0.050279\n",
       " ..         ...                ...       ...        ...       ...\n",
       " 95  sub-108020           1.014910  0.963687   0.002793  0.033520\n",
       " 96  sub-112112           0.979823  0.916201   0.027933  0.055866\n",
       " 97  sub-102513           0.995702  0.952514   0.016760  0.030726\n",
       " 98  sub-112920           1.007502  0.935754   0.022346  0.041899\n",
       " 99  sub-119732           0.975512  0.810056   0.106145  0.083799\n",
       " \n",
       " [100 rows x 5 columns],\n",
       " 0.5:        subject  frobenius_quality      self  neighbors    others\n",
       " 0   sub-111716           0.896849  0.762570   0.203911  0.033520\n",
       " 1   sub-103818           0.936193  0.776536   0.120112  0.103352\n",
       " 2   sub-105115           0.738193  0.326816   0.564246  0.108939\n",
       " 3   sub-113619           0.974323  0.863128   0.058659  0.078212\n",
       " 4   sub-115320           0.949375  0.826816   0.111732  0.061453\n",
       " ..         ...                ...       ...        ...       ...\n",
       " 95  sub-108020           0.824271  0.458101   0.421788  0.120112\n",
       " 96  sub-112112           1.000009  0.958101   0.005587  0.036313\n",
       " 97  sub-102513           0.810240  0.413408   0.505587  0.081006\n",
       " 98  sub-112920           0.999639  0.910615   0.039106  0.050279\n",
       " 99  sub-119732           0.965376  0.754190   0.164804  0.081006\n",
       " \n",
       " [100 rows x 5 columns],\n",
       " 1.0:        subject  frobenius_quality      self  neighbors    others\n",
       " 0   sub-111716           0.838419  0.145251   0.832402  0.022346\n",
       " 1   sub-103818           0.906496  0.600559   0.298883  0.100559\n",
       " 2   sub-105115           0.727257  0.192737   0.737430  0.069832\n",
       " 3   sub-113619           0.726403  0.178771   0.734637  0.086592\n",
       " 4   sub-115320           0.898017  0.729050   0.175978  0.094972\n",
       " ..         ...                ...       ...        ...       ...\n",
       " 95  sub-108020           0.827042  0.307263   0.611732  0.081006\n",
       " 96  sub-112112           0.907120  0.634078   0.259777  0.106145\n",
       " 97  sub-102513           0.827827  0.159218   0.787709  0.053073\n",
       " 98  sub-112920           1.007187  0.930168   0.016760  0.053073\n",
       " 99  sub-119732           0.893381  0.488827   0.424581  0.086592\n",
       " \n",
       " [100 rows x 5 columns]}"
      ]
     },
     "execution_count": 4,
     "metadata": {},
     "output_type": "execute_result"
    }
   ],
   "source": [
    "collated_results"
   ]
  },
  {
   "cell_type": "code",
   "execution_count": 11,
   "metadata": {},
   "outputs": [],
   "source": [
    "import seaborn as sns\n",
    "import pandas as pd\n",
    "import matplotlib.pyplot as plt\n",
    "\n",
    "def combine_dataframes(data_dict):\n",
    "    \"\"\"\n",
    "    Combine dataframes from the dictionary into a single dataframe for plotting.\n",
    "    \"\"\"\n",
    "    combined_df = pd.concat({k: v for k, v in data_dict.items()}, names=['alpha'])\n",
    "    combined_df.reset_index(level=0, inplace=True)\n",
    "    return combined_df\n",
    "\n",
    "\n",
    "\n",
    "def plot_boxplots_by_alpha(data_dict, attributes):\n",
    "    \"\"\"\n",
    "    Plot boxplots for each attribute within the same alpha value using seaborn.\n",
    "    \n",
    "    Parameters:\n",
    "    data_dict (dict): A dictionary with alpha values as keys and dataframes as values.\n",
    "    attributes (list): A list of attribute names to plot.\n",
    "    \"\"\"\n",
    "    for alpha, df in data_dict.items():\n",
    "        plt.figure(figsize=(12, 8))\n",
    "        for attribute in attributes:\n",
    "            sns.boxplot(data=df[attributes])\n",
    "            plt.title(f'Boxplot of attributes for alpha = {alpha}')\n",
    "            plt.xlabel('Attributes')\n",
    "            plt.ylabel('Values')\n",
    "        plt.show()\n",
    "\n",
    "# Example usage\n",
    "# data_dict = {0.01: df1, 0.1: df2, ...}  # Your dictionary of dataframes\n",
    "# attributes = ['frobenius_quality', 'self', 'neighbors', 'others']\n",
    "# plot_boxplots_by_alpha(data_dict, attributes)\n",
    "\n"
   ]
  },
  {
   "cell_type": "code",
   "execution_count": null,
   "metadata": {},
   "outputs": [],
   "source": [
    "attributes = collated_results[0.01].columns\n",
    "plot_boxplots_by_alpha(collated_results, attributes)"
   ]
  }
 ],
 "metadata": {
  "kernelspec": {
   "display_name": "Python 3",
   "language": "python",
   "name": "python3"
  },
  "language_info": {
   "codemirror_mode": {
    "name": "ipython",
    "version": 3
   },
   "file_extension": ".py",
   "mimetype": "text/x-python",
   "name": "python",
   "nbconvert_exporter": "python",
   "pygments_lexer": "ipython3",
   "version": "3.12.4"
  }
 },
 "nbformat": 4,
 "nbformat_minor": 2
}
